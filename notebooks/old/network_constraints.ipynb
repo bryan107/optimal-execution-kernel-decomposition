{
 "cells": [
  {
   "cell_type": "code",
   "execution_count": 5,
   "metadata": {},
   "outputs": [],
   "source": [
    "import torch\n",
    "import torch.nn as nn \n",
    "from torch.functional import F\n",
    "import numpy as np\n",
    "import matplotlib.pyplot as plt\n",
    "import pandas as pd\n",
    "import datetime\n",
    "import xarray as xr\n",
    "import datashader as ds\n",
    "import datashader.transfer_functions as tf\n",
    "import seaborn as sns\n",
    "\n",
    "from functools import partial\n",
    "from tqdm.notebook import tqdm\n",
    "from sconf import Config\n",
    "\n",
    "import sys\n",
    "sys.path.append('..')\n",
    "\n",
    "from classes import MLP, MultiTaskLoss\n",
    "from utils import non_markovian_midprice"
   ]
  },
  {
   "cell_type": "code",
   "execution_count": 7,
   "metadata": {},
   "outputs": [],
   "source": [
    "config = Config('config.yaml')"
   ]
  },
  {
   "cell_type": "code",
   "execution_count": 8,
   "metadata": {},
   "outputs": [],
   "source": [
    "rng = np.random.default_rng(123)\n",
    "\n",
    "num_paths = config.num_paths\n",
    "num_timesteps = config.num_timesteps\n",
    "final_time = config.final_time\n",
    "initial_price = config.initial_price\n",
    "decomp_dim = config.decomp_dim\n",
    "num_episodes = config.num_episodes\n",
    "batch_size = config.batch_size\n",
    "\n",
    "dt = final_time/num_timesteps\n",
    "\n",
    "inital_prices = np.ones((1, num_paths)) * initial_price\n",
    "\n",
    "permenant_price_impact_func = lambda x: 0.01*x\n",
    "kernel_function = lambda x,y: (np.abs((x-y)+1e-3)**(0.51-1))\n",
    "# kernel_function = lambda x,y: (1/(np.sqrt(2*np.pi)))*np.exp(-(x-y)**2)\n",
    "# kernel_function = lambda x,y: np.exp(-np.abs((x-y)))\n",
    "K0 = kernel_function(0,0)\n",
    "\n",
    "nu_vals = rng.uniform(-50, 100,size=(num_timesteps, num_paths))\n",
    "\n",
    "sigma_true = 0.1"
   ]
  },
  {
   "cell_type": "code",
   "execution_count": 9,
   "metadata": {},
   "outputs": [],
   "source": [
    "network = MLP(decomp_dim=decomp_dim)\n",
    "# mtloss = MultiTaskLoss(num_losses=3)\n",
    "optimizer = torch.optim.Adam(params=[*network.parameters(), \n",
    "                                #      *mtloss.parameters()\n",
    "                                     ],\n",
    "                             lr=3e-4)"
   ]
  },
  {
   "cell_type": "markdown",
   "metadata": {},
   "source": [
    "# Constraining Outputs"
   ]
  },
  {
   "cell_type": "markdown",
   "metadata": {},
   "source": [
    "# Monotonicity"
   ]
  },
  {
   "cell_type": "code",
   "execution_count": 25,
   "metadata": {},
   "outputs": [
    {
     "data": {
      "text/plain": [
       "(tensor(51790.2930, grad_fn=<MaximumBackward0>),\n",
       " tensor(2.7330, grad_fn=<DotBackward0>),\n",
       " tensor(51793.0273, grad_fn=<DotBackward0>))"
      ]
     },
     "execution_count": 25,
     "metadata": {},
     "output_type": "execute_result"
    }
   ],
   "source": [
    "timestamp = 10\n",
    "time_tensor = torch.FloatTensor([timestamp*dt])\n",
    "\n",
    "f_vals = network(time_tensor)\n",
    "lesser_time = torch.FloatTensor([timestamp*rng.uniform(0, timestamp)])\n",
    "lesser_f_val = network(lesser_time)\n",
    "greater_time = torch.FloatTensor([timestamp*rng.uniform(timestamp, num_timesteps)])\n",
    "greater_f_val = network(greater_time)\n",
    "\n",
    "s_t = f_vals.dot(lesser_f_val)\n",
    "s_s = lesser_f_val.dot(greater_f_val)\n",
    "\n",
    "loss = torch.max(torch.zeros_like(s_s),\n",
    "                  -(s_t-s_s))\n",
    "\n",
    "loss, s_t, s_s"
   ]
  },
  {
   "cell_type": "markdown",
   "metadata": {},
   "source": [
    "# Translation Invariance"
   ]
  },
  {
   "cell_type": "code",
   "execution_count": 33,
   "metadata": {},
   "outputs": [
    {
     "data": {
      "text/plain": [
       "tensor(5.3773e+12, grad_fn=<PowBackward0>)"
      ]
     },
     "execution_count": 33,
     "metadata": {},
     "output_type": "execute_result"
    }
   ],
   "source": [
    "timestamp = 10\n",
    "\n",
    "\n",
    "\n",
    "loss"
   ]
  },
  {
   "cell_type": "code",
   "execution_count": 31,
   "metadata": {},
   "outputs": [
    {
     "data": {
      "text/plain": [
       "tensor(2.7330, grad_fn=<DotBackward0>)"
      ]
     },
     "execution_count": 31,
     "metadata": {},
     "output_type": "execute_result"
    }
   ],
   "source": []
  }
 ],
 "metadata": {
  "kernelspec": {
   "display_name": "venv",
   "language": "python",
   "name": "python3"
  },
  "language_info": {
   "codemirror_mode": {
    "name": "ipython",
    "version": 3
   },
   "file_extension": ".py",
   "mimetype": "text/x-python",
   "name": "python",
   "nbconvert_exporter": "python",
   "pygments_lexer": "ipython3",
   "version": "3.10.6"
  }
 },
 "nbformat": 4,
 "nbformat_minor": 2
}
