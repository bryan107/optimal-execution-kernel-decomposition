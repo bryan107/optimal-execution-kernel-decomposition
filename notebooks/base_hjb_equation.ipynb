{
 "cells": [
  {
   "cell_type": "code",
   "execution_count": 1,
   "metadata": {},
   "outputs": [],
   "source": [
    "import torch\n",
    "import torch.nn as nn\n",
    "from torch.functional import F\n",
    "import numpy as np\n",
    "import matplotlib.pyplot as plt\n",
    "import pandas as pd\n",
    "import datetime\n",
    "import seaborn as sns\n",
    "import scipy\n",
    "\n",
    "from IPython.display import clear_output\n",
    "\n",
    "from functools import partial\n",
    "from tqdm.notebook import tqdm\n",
    "from sconf import Config\n",
    "\n",
    "import sys\n",
    "\n",
    "sys.path.append(\"..\")\n",
    "\n",
    "from classes import MLP, MultiTaskLoss\n",
    "from utils import non_markovian_midprice, generate_time_one_time_two"
   ]
  },
  {
   "cell_type": "code",
   "execution_count": 2,
   "metadata": {},
   "outputs": [],
   "source": [
    "config = Config(\"config.yaml\")"
   ]
  },
  {
   "cell_type": "markdown",
   "metadata": {},
   "source": [
    "# Solving HJB Equation"
   ]
  },
  {
   "cell_type": "code",
   "execution_count": 3,
   "metadata": {},
   "outputs": [],
   "source": [
    "def h_t(h_t_plus_one, delta_t_h, dt):\n",
    "\n",
    "    h_t = h_t_plus_one - delta_t_h * dt\n",
    "\n",
    "    return h_t\n",
    "\n",
    "def phi_q_squared(phi, q):\n",
    "\n",
    "    return phi * (q**2)\n",
    "\n",
    "def partial_h_q(h_t_plus_one, dq):\n",
    "\n",
    "    delta_h_q = np.zeros_like(h_t_plus_one)\n",
    "\n",
    "    middle = h_t_plus_one[1:-1] - h_t_plus_one[0:-2]\n",
    "\n",
    "    delta_h_q[1:-1] = middle / (dq)\n",
    "\n",
    "    h_q_lower = 2 * h_t_plus_one[0] - h_t_plus_one[1]\n",
    "    delta_h_q_lower = (h_t_plus_one[0] - h_q_lower)\n",
    "\n",
    "    h_q_upper = 2 * h_t_plus_one[-1] - h_t_plus_one[-2]\n",
    "    delta_q_upper = (h_q_upper - h_t_plus_one[-1])\n",
    "\n",
    "    delta_h_q[0] = delta_h_q_lower/(dq)\n",
    "    delta_h_q[-1] = delta_q_upper/(dq)\n",
    "\n",
    "    return delta_h_q\n",
    "\n",
    "def y(h_t_plus_one, q, b, kappa, dq):\n",
    "\n",
    "    term_one = b * q.flatten()\n",
    "\n",
    "    delta_h_q = partial_h_q(h_t_plus_one=h_t_plus_one, dq=dq)\n",
    "\n",
    "    term_three = delta_h_q.flatten()\n",
    "\n",
    "    return -(term_one + term_three)\n",
    "\n",
    "def xi(a, kappa):\n",
    "\n",
    "    return (a * kappa) / (((1 + a) * kappa) ** (1 + 1 / a))\n",
    "\n",
    "def F_star(xi, y, a):\n",
    "\n",
    "    y_power_term = (y ** (1 + (1 / a)))\n",
    "\n",
    "    return xi * y_power_term\n",
    "\n",
    "def F_star_term(h_t_plus_one, q, a, b, kappa, dq):\n",
    "\n",
    "    y_term = y(\n",
    "        h_t_plus_one=h_t_plus_one, q=q, kappa=kappa, b=b, dq=dq\n",
    "    )\n",
    "\n",
    "    xi_term = xi(a=a, kappa=kappa)\n",
    "\n",
    "    F_star_term_var = F_star(xi=xi_term, y=y_term, a=a)\n",
    "\n",
    "    return F_star_term_var\n",
    "\n",
    "def rhs(h_t_plus_one, q, phi, a, b, kappa, dq, dt):\n",
    "\n",
    "    phi_q_squared_term = phi_q_squared(phi=phi, q=q)\n",
    "\n",
    "    f_star_term = F_star_term(\n",
    "        h_t_plus_one=h_t_plus_one,\n",
    "        q=q,\n",
    "        a=a,\n",
    "        b=b,\n",
    "        kappa=kappa,\n",
    "        dq=dq,\n",
    "    )\n",
    "\n",
    "    return phi_q_squared_term - f_star_term"
   ]
  },
  {
   "cell_type": "markdown",
   "metadata": {},
   "source": [
    "# Solve equation"
   ]
  },
  {
   "cell_type": "code",
   "execution_count": 4,
   "metadata": {},
   "outputs": [
    {
     "data": {
      "application/vnd.jupyter.widget-view+json": {
       "model_id": "bcc8569bc3124adbbcd236bf9c692df7",
       "version_major": 2,
       "version_minor": 0
      },
      "text/plain": [
       "  0%|          | 0/99999 [00:00<?, ?it/s]"
      ]
     },
     "metadata": {},
     "output_type": "display_data"
    },
    {
     "data": {
      "application/vnd.jupyter.widget-view+json": {
       "model_id": "e04ed78bc05a43b086e0d852546e98fb",
       "version_major": 2,
       "version_minor": 0
      },
      "text/plain": [
       "  0%|          | 0/99999 [00:00<?, ?it/s]"
      ]
     },
     "metadata": {},
     "output_type": "display_data"
    },
    {
     "data": {
      "application/vnd.jupyter.widget-view+json": {
       "model_id": "0a4e0a800ec84a28b590f0c09bf855dc",
       "version_major": 2,
       "version_minor": 0
      },
      "text/plain": [
       "  0%|          | 0/99999 [00:00<?, ?it/s]"
      ]
     },
     "metadata": {},
     "output_type": "display_data"
    },
    {
     "data": {
      "application/vnd.jupyter.widget-view+json": {
       "model_id": "377c0cf47a6d4d28862a3a6e96bb2089",
       "version_major": 2,
       "version_minor": 0
      },
      "text/plain": [
       "  0%|          | 0/99999 [00:00<?, ?it/s]"
      ]
     },
     "metadata": {},
     "output_type": "display_data"
    }
   ],
   "source": [
    "rng = np.random.default_rng(123)\n",
    "\n",
    "q_val_dict = {}\n",
    "\n",
    "num_timesteps = 100_000\n",
    "final_time = 1\n",
    "initial_price = 1\n",
    "\n",
    "dt = final_time / num_timesteps\n",
    "\n",
    "a_vals = (0.8, 1, 2, 5)\n",
    "\n",
    "for a in a_vals:\n",
    "    kappa = 0.001\n",
    "    b = 0.001\n",
    "    phi = 10 * kappa\n",
    "    alpha = 100 * kappa\n",
    "\n",
    "    q_lower = 0\n",
    "    q_upper = 1\n",
    "    num_q_steps = 100\n",
    "\n",
    "    t_grid = np.arange(0, 1+dt, dt)\n",
    "\n",
    "    q_grid = np.linspace(q_lower, q_upper, num=num_q_steps)\n",
    "    dq = np.abs(q_grid[0] - q_grid[1])\n",
    "\n",
    "    # [time, G, q]\n",
    "    h_grid = np.zeros((num_timesteps, len(q_grid)))\n",
    "    nu_star = np.zeros((num_timesteps, len(q_grid)))\n",
    "\n",
    "    # Initialize terminal condition\n",
    "    h_grid[-1, :] = -alpha * (q_grid**2)\n",
    "\n",
    "    for i in tqdm(range(1, num_timesteps)):\n",
    "\n",
    "        time = (num_timesteps - i) * dt\n",
    "\n",
    "        h_t_plus_one = h_grid[num_timesteps - i, :]\n",
    "\n",
    "        delta_t_h = rhs(\n",
    "            h_t_plus_one=h_t_plus_one,\n",
    "            q=q_grid,\n",
    "            a=a,\n",
    "            b=b,\n",
    "            kappa=kappa,\n",
    "            phi=phi,\n",
    "            dq=dq,\n",
    "            dt=dt,\n",
    "        )\n",
    "\n",
    "        h_t_term = h_t_plus_one - delta_t_h * dt\n",
    "\n",
    "        h_grid[num_timesteps - (i + 1)] = h_t_term\n",
    "\n",
    "        y_term = y(\n",
    "            h_t_plus_one=h_t_plus_one,\n",
    "            q=q_grid,\n",
    "            b=b,\n",
    "            kappa=kappa,\n",
    "            dq=dq,\n",
    "        )\n",
    "\n",
    "        nu_star[num_timesteps - (i + 1)] = ((y_term) / ((1 + a) * kappa)) ** (1 / a)\n",
    "\n",
    "    zero_flag = False\n",
    "    Q0 = 1\n",
    "    Q = [Q0]\n",
    "\n",
    "    for i in range(0, num_timesteps - 1):\n",
    "\n",
    "        if zero_flag:\n",
    "            Q.append(0)\n",
    "\n",
    "        q_index = np.argmin(np.abs(Q[i] - q_grid))\n",
    "\n",
    "        dQ = - nu_star[i, q_index] * dt\n",
    "\n",
    "        new_term = Q[-1] + dQ\n",
    "        Q.append(new_term)\n",
    "\n",
    "    Q = np.array(Q)\n",
    "\n",
    "    q_val_dict[int(a*10)] = Q"
   ]
  },
  {
   "cell_type": "code",
   "execution_count": 8,
   "metadata": {},
   "outputs": [
    {
     "data": {
      "image/png": "[encoded data removed]",
      "text/plain": [
       "<Figure size 640x480 with 1 Axes>"
      ]
     },
     "metadata": {},
     "output_type": "display_data"
    }
   ],
   "source": [
    "for key, Q in q_val_dict.items():\n",
    "    plt.plot(Q, label=key/10)\n",
    "    # plt.plot(np.linspace(0,1, len(Q[Q>0])),Q[Q>0], label=key/10)\n",
    "\n",
    "plt.ylim(0, None)\n",
    "plt.legend()\n",
    "plt.show()"
   ]
  }
 ],
 "metadata": {
  "kernelspec": {
   "display_name": "venv",
   "language": "python",
   "name": "python3"
  },
  "language_info": {
   "codemirror_mode": {
    "name": "ipython",
    "version": 3
   },
   "file_extension": ".py",
   "mimetype": "text/x-python",
   "name": "python",
   "nbconvert_exporter": "python",
   "pygments_lexer": "ipython3",
   "version": "3.10.6"
  }
 },
 "nbformat": 4,
 "nbformat_minor": 2
}
